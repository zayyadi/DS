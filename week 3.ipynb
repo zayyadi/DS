{
 "cells": [
  {
   "cell_type": "code",
   "execution_count": 3,
   "metadata": {},
   "outputs": [
    {
     "name": "stdout",
     "output_type": "stream",
     "text": [
      "jos\n"
     ]
    }
   ],
   "source": [
    "x = input()"
   ]
  },
  {
   "cell_type": "code",
   "execution_count": 9,
   "metadata": {},
   "outputs": [
    {
     "name": "stdout",
     "output_type": "stream",
     "text": [
      "Whats you name: Kola\n",
      "Whats you name: Tolu\n",
      "Whats you name: Titi\n",
      "Whats you name: joseph\n",
      "Whats you name: Joseph\n"
     ]
    }
   ],
   "source": [
    "while 1:\n",
    "    name = input(\"Whats you name: \")\n",
    "    if name == 'Joseph' : break"
   ]
  },
  {
   "cell_type": "code",
   "execution_count": 98,
   "metadata": {},
   "outputs": [
    {
     "name": "stdout",
     "output_type": "stream",
     "text": [
      "enter class week: 1\n",
      "enter class week: 10\n",
      "enter class week: 100\n",
      "enter class week: 2\n",
      "enter class week: 2.1\n",
      "enter class week: 2.9\n",
      "enter class week: 3\n"
     ]
    }
   ],
   "source": [
    "while 1:\n",
    "    classn = input(\"enter class week: \")\n",
    "    if classn == '3' : break"
   ]
  },
  {
   "cell_type": "code",
   "execution_count": 10,
   "metadata": {},
   "outputs": [],
   "source": [
    "def addnum(x, y):\n",
    "    return x + y"
   ]
  },
  {
   "cell_type": "code",
   "execution_count": 11,
   "metadata": {},
   "outputs": [
    {
     "name": "stdout",
     "output_type": "stream",
     "text": [
      "31\n"
     ]
    }
   ],
   "source": [
    "print(addnum(10, 21))"
   ]
  },
  {
   "cell_type": "code",
   "execution_count": 104,
   "metadata": {},
   "outputs": [],
   "source": [
    "def namedef(name=\"no name\", number=\"0000\"):\n",
    "    print('Your name is: %s and your nunmber is: %s' % (name, number))"
   ]
  },
  {
   "cell_type": "code",
   "execution_count": 111,
   "metadata": {},
   "outputs": [
    {
     "name": "stdout",
     "output_type": "stream",
     "text": [
      "Your name is: no name and your nunmber is: 09090909\n"
     ]
    }
   ],
   "source": [
    "namedef(number=\"09090909\")"
   ]
  },
  {
   "cell_type": "code",
   "execution_count": 107,
   "metadata": {},
   "outputs": [],
   "source": [
    "def okname(first=\"jo\", last=\"seph\"):\n",
    "     print('firstname is: %s and lastname is: %s' % (first, last))"
   ]
  },
  {
   "cell_type": "code",
   "execution_count": 23,
   "metadata": {
    "scrolled": true
   },
   "outputs": [
    {
     "name": "stdout",
     "output_type": "stream",
     "text": [
      "firstname is: jo and lastname is: abdul\n"
     ]
    }
   ],
   "source": [
    "okname(last='abdul')"
   ]
  },
  {
   "cell_type": "code",
   "execution_count": 124,
   "metadata": {},
   "outputs": [],
   "source": [
    "def frienndlist(name, age):\n",
    "    print('Name is Abdul and friends names are %s age is : %s' % (name, age))"
   ]
  },
  {
   "cell_type": "code",
   "execution_count": 125,
   "metadata": {},
   "outputs": [
    {
     "name": "stdout",
     "output_type": "stream",
     "text": [
      "Name is Abdul and friends names are ['Abdul, Kola'] age is : [10, 80, 70, 20]\n"
     ]
    }
   ],
   "source": [
    "frienndlist([\"Abdul, Kola\"], [10, 80, 70, 20])"
   ]
  },
  {
   "cell_type": "code",
   "execution_count": null,
   "metadata": {},
   "outputs": [],
   "source": []
  },
  {
   "cell_type": "code",
   "execution_count": 82,
   "metadata": {},
   "outputs": [],
   "source": [
    "def abdulgf(name, *ages):\n",
    "    print( 'Mr %s dated woman of age: %s' % (name, ages))"
   ]
  },
  {
   "cell_type": "code",
   "execution_count": 83,
   "metadata": {},
   "outputs": [
    {
     "name": "stdout",
     "output_type": "stream",
     "text": [
      "Mr Abdul dated woman of age: (50, 27, 99, 63, 78)\n"
     ]
    }
   ],
   "source": [
    "abdulgf('Abdul', 50, 27, 99, 63, 78)"
   ]
  },
  {
   "cell_type": "code",
   "execution_count": null,
   "metadata": {},
   "outputs": [],
   "source": []
  },
  {
   "cell_type": "code",
   "execution_count": 68,
   "metadata": {},
   "outputs": [],
   "source": [
    "class MyClass:\n",
    "    name = \"jo\"\n",
    "    age = 10\n",
    "    def thisMethod(self):\n",
    "        print(\"Fired from the method\")\n",
    "    "
   ]
  },
  {
   "cell_type": "code",
   "execution_count": 139,
   "metadata": {},
   "outputs": [],
   "source": [
    "class Rubbishclass:\n",
    "    address = \"No1 ...\"\n",
    "    song = \"...\"\n",
    "    day = \"Friday\"\n",
    "    \n",
    "    def functioninside(self):\n",
    "        return \"Fired from Rubbishclass\""
   ]
  },
  {
   "cell_type": "code",
   "execution_count": 140,
   "metadata": {},
   "outputs": [],
   "source": [
    "groupclass = Rubbishclass()"
   ]
  },
  {
   "cell_type": "code",
   "execution_count": 141,
   "metadata": {},
   "outputs": [
    {
     "data": {
      "text/plain": [
       "'Fired from Rubbishclass'"
      ]
     },
     "execution_count": 141,
     "metadata": {},
     "output_type": "execute_result"
    }
   ],
   "source": [
    "groupclass.functioninside()"
   ]
  },
  {
   "cell_type": "code",
   "execution_count": 53,
   "metadata": {},
   "outputs": [
    {
     "data": {
      "text/plain": [
       "__main__.MyClass"
      ]
     },
     "execution_count": 53,
     "metadata": {},
     "output_type": "execute_result"
    }
   ],
   "source": [
    "MyClass"
   ]
  },
  {
   "cell_type": "code",
   "execution_count": 54,
   "metadata": {},
   "outputs": [],
   "source": [
    "newClass = MyClass"
   ]
  },
  {
   "cell_type": "code",
   "execution_count": 55,
   "metadata": {},
   "outputs": [
    {
     "data": {
      "text/plain": [
       "'jo'"
      ]
     },
     "execution_count": 55,
     "metadata": {},
     "output_type": "execute_result"
    }
   ],
   "source": [
    "newClass.name"
   ]
  },
  {
   "cell_type": "code",
   "execution_count": 56,
   "metadata": {},
   "outputs": [
    {
     "data": {
      "text/plain": [
       "10"
      ]
     },
     "execution_count": 56,
     "metadata": {},
     "output_type": "execute_result"
    }
   ],
   "source": [
    "newClass.age"
   ]
  },
  {
   "cell_type": "code",
   "execution_count": 66,
   "metadata": {},
   "outputs": [
    {
     "name": "stdout",
     "output_type": "stream",
     "text": [
      "Fired from the method\n"
     ]
    }
   ],
   "source": [
    "newClass.thisMethod('')"
   ]
  },
  {
   "cell_type": "code",
   "execution_count": null,
   "metadata": {},
   "outputs": [],
   "source": []
  },
  {
   "cell_type": "code",
   "execution_count": 143,
   "metadata": {},
   "outputs": [],
   "source": [
    "class MysecondClass:\n",
    "    def createName(self, name, gender, age):\n",
    "        self.name = name\n",
    "        self.gender = gender\n",
    "        self.age = age\n",
    "    def showName(self):\n",
    "        return ('My name is '+self.name+' my gender is : '+self.gender+' And age is: '+self.age)\n",
    "    def displayExtra(self):\n",
    "        print('Hello %s welcome to AI Saturday Ilorin' % self.name)\n",
    "    "
   ]
  },
  {
   "cell_type": "code",
   "execution_count": 144,
   "metadata": {},
   "outputs": [
    {
     "data": {
      "text/plain": [
       "'My name is Abdul my gender is : male And age is: 10'"
      ]
     },
     "execution_count": 144,
     "metadata": {},
     "output_type": "execute_result"
    }
   ],
   "source": [
    "Rname = MysecondClass()\n",
    "Rname.createName('Abdul', 'male', '10')\n",
    "Rname.showName()"
   ]
  },
  {
   "cell_type": "code",
   "execution_count": 73,
   "metadata": {},
   "outputs": [
    {
     "data": {
      "text/plain": [
       "__main__.MysecondClass"
      ]
     },
     "execution_count": 73,
     "metadata": {},
     "output_type": "execute_result"
    }
   ],
   "source": [
    "MysecondClass"
   ]
  },
  {
   "cell_type": "code",
   "execution_count": 76,
   "metadata": {},
   "outputs": [],
   "source": [
    "newsecclass = MysecondClass()\n",
    "newsecclass.createName('Abdul')"
   ]
  },
  {
   "cell_type": "code",
   "execution_count": 77,
   "metadata": {
    "scrolled": true
   },
   "outputs": [
    {
     "data": {
      "text/plain": [
       "'Abdul'"
      ]
     },
     "execution_count": 77,
     "metadata": {},
     "output_type": "execute_result"
    }
   ],
   "source": [
    "newsecclass.showName()"
   ]
  },
  {
   "cell_type": "code",
   "execution_count": 79,
   "metadata": {},
   "outputs": [
    {
     "name": "stdout",
     "output_type": "stream",
     "text": [
      "Hello Abdul welcome to AI Saturday Ilorin\n"
     ]
    }
   ],
   "source": [
    "newsecclass.displayExtra()"
   ]
  },
  {
   "cell_type": "code",
   "execution_count": null,
   "metadata": {},
   "outputs": [],
   "source": []
  },
  {
   "cell_type": "code",
   "execution_count": 151,
   "metadata": {},
   "outputs": [
    {
     "name": "stdout",
     "output_type": "stream",
     "text": [
      "an unknow error occurs\n"
     ]
    }
   ],
   "source": [
    "try:\n",
    "    no1 = 200\n",
    "    print(no1.lower())\n",
    "except ValueError:\n",
    "    print(\"A value error occured\")\n",
    "except NameError:\n",
    "    print(\"A name error occured\")\n",
    "except:\n",
    "    print('an unknow error occurs')"
   ]
  },
  {
   "cell_type": "code",
   "execution_count": 96,
   "metadata": {},
   "outputs": [
    {
     "name": "stdout",
     "output_type": "stream",
     "text": [
      "an unknow error occured\n"
     ]
    }
   ],
   "source": [
    "try:\n",
    "    nums = 10\n",
    "    print(nums.lower())\n",
    "except ValueError:\n",
    "    print('A numeric value error found')\n",
    "except NameError:\n",
    "    print(\"A name error occured\")\n",
    "except :\n",
    "    print(\"an unknow error occured\")\n",
    "else:\n",
    "    print('no error occured')\n",
    "    "
   ]
  }
 ],
 "metadata": {
  "kernelspec": {
   "display_name": "Python 3",
   "language": "python",
   "name": "python3"
  },
  "language_info": {
   "codemirror_mode": {
    "name": "ipython",
    "version": 3
   },
   "file_extension": ".py",
   "mimetype": "text/x-python",
   "name": "python",
   "nbconvert_exporter": "python",
   "pygments_lexer": "ipython3",
   "version": "3.7.5"
  }
 },
 "nbformat": 4,
 "nbformat_minor": 2
}
