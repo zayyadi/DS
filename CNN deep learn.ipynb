{
 "cells": [
  {
   "cell_type": "code",
   "execution_count": 1,
   "metadata": {},
   "outputs": [],
   "source": [
    "import pandas as pd              #for data manipulation\n",
    "import numpy as np               #for maths\n",
    "import matplotlib.pyplot as plt  #for visualization\n",
    "%matplotlib inline"
   ]
  },
  {
   "cell_type": "code",
   "execution_count": 2,
   "metadata": {},
   "outputs": [],
   "source": [
    "\n",
    "#read data\n",
    "train_data = pd.read_csv('datasets/digit-recognizer/train.csv')  "
   ]
  },
  {
   "cell_type": "code",
   "execution_count": 3,
   "metadata": {},
   "outputs": [
    {
     "data": {
      "text/html": [
       "<div>\n",
       "<style scoped>\n",
       "    .dataframe tbody tr th:only-of-type {\n",
       "        vertical-align: middle;\n",
       "    }\n",
       "\n",
       "    .dataframe tbody tr th {\n",
       "        vertical-align: top;\n",
       "    }\n",
       "\n",
       "    .dataframe thead th {\n",
       "        text-align: right;\n",
       "    }\n",
       "</style>\n",
       "<table border=\"1\" class=\"dataframe\">\n",
       "  <thead>\n",
       "    <tr style=\"text-align: right;\">\n",
       "      <th></th>\n",
       "      <th>label</th>\n",
       "      <th>pixel0</th>\n",
       "      <th>pixel1</th>\n",
       "      <th>pixel2</th>\n",
       "      <th>pixel3</th>\n",
       "      <th>pixel4</th>\n",
       "      <th>pixel5</th>\n",
       "      <th>pixel6</th>\n",
       "      <th>pixel7</th>\n",
       "      <th>pixel8</th>\n",
       "      <th>...</th>\n",
       "      <th>pixel774</th>\n",
       "      <th>pixel775</th>\n",
       "      <th>pixel776</th>\n",
       "      <th>pixel777</th>\n",
       "      <th>pixel778</th>\n",
       "      <th>pixel779</th>\n",
       "      <th>pixel780</th>\n",
       "      <th>pixel781</th>\n",
       "      <th>pixel782</th>\n",
       "      <th>pixel783</th>\n",
       "    </tr>\n",
       "  </thead>\n",
       "  <tbody>\n",
       "    <tr>\n",
       "      <th>0</th>\n",
       "      <td>1</td>\n",
       "      <td>0</td>\n",
       "      <td>0</td>\n",
       "      <td>0</td>\n",
       "      <td>0</td>\n",
       "      <td>0</td>\n",
       "      <td>0</td>\n",
       "      <td>0</td>\n",
       "      <td>0</td>\n",
       "      <td>0</td>\n",
       "      <td>...</td>\n",
       "      <td>0</td>\n",
       "      <td>0</td>\n",
       "      <td>0</td>\n",
       "      <td>0</td>\n",
       "      <td>0</td>\n",
       "      <td>0</td>\n",
       "      <td>0</td>\n",
       "      <td>0</td>\n",
       "      <td>0</td>\n",
       "      <td>0</td>\n",
       "    </tr>\n",
       "    <tr>\n",
       "      <th>1</th>\n",
       "      <td>0</td>\n",
       "      <td>0</td>\n",
       "      <td>0</td>\n",
       "      <td>0</td>\n",
       "      <td>0</td>\n",
       "      <td>0</td>\n",
       "      <td>0</td>\n",
       "      <td>0</td>\n",
       "      <td>0</td>\n",
       "      <td>0</td>\n",
       "      <td>...</td>\n",
       "      <td>0</td>\n",
       "      <td>0</td>\n",
       "      <td>0</td>\n",
       "      <td>0</td>\n",
       "      <td>0</td>\n",
       "      <td>0</td>\n",
       "      <td>0</td>\n",
       "      <td>0</td>\n",
       "      <td>0</td>\n",
       "      <td>0</td>\n",
       "    </tr>\n",
       "    <tr>\n",
       "      <th>2</th>\n",
       "      <td>1</td>\n",
       "      <td>0</td>\n",
       "      <td>0</td>\n",
       "      <td>0</td>\n",
       "      <td>0</td>\n",
       "      <td>0</td>\n",
       "      <td>0</td>\n",
       "      <td>0</td>\n",
       "      <td>0</td>\n",
       "      <td>0</td>\n",
       "      <td>...</td>\n",
       "      <td>0</td>\n",
       "      <td>0</td>\n",
       "      <td>0</td>\n",
       "      <td>0</td>\n",
       "      <td>0</td>\n",
       "      <td>0</td>\n",
       "      <td>0</td>\n",
       "      <td>0</td>\n",
       "      <td>0</td>\n",
       "      <td>0</td>\n",
       "    </tr>\n",
       "  </tbody>\n",
       "</table>\n",
       "<p>3 rows × 785 columns</p>\n",
       "</div>"
      ],
      "text/plain": [
       "   label  pixel0  pixel1  pixel2  pixel3  pixel4  pixel5  pixel6  pixel7  \\\n",
       "0      1       0       0       0       0       0       0       0       0   \n",
       "1      0       0       0       0       0       0       0       0       0   \n",
       "2      1       0       0       0       0       0       0       0       0   \n",
       "\n",
       "   pixel8  ...  pixel774  pixel775  pixel776  pixel777  pixel778  pixel779  \\\n",
       "0       0  ...         0         0         0         0         0         0   \n",
       "1       0  ...         0         0         0         0         0         0   \n",
       "2       0  ...         0         0         0         0         0         0   \n",
       "\n",
       "   pixel780  pixel781  pixel782  pixel783  \n",
       "0         0         0         0         0  \n",
       "1         0         0         0         0  \n",
       "2         0         0         0         0  \n",
       "\n",
       "[3 rows x 785 columns]"
      ]
     },
     "execution_count": 3,
     "metadata": {},
     "output_type": "execute_result"
    }
   ],
   "source": [
    "#lets see the data\n",
    "train_data.head(3)  "
   ]
  },
  {
   "cell_type": "code",
   "execution_count": 4,
   "metadata": {},
   "outputs": [
    {
     "name": "stdout",
     "output_type": "stream",
     "text": [
      "Shape of Dataset (42000, 785)\n",
      "Number of Images 42000\n",
      "Number of pixels 784\n",
      "Unique Labels    [0 1 2 3 4 5 6 7 8 9]\n"
     ]
    }
   ],
   "source": [
    "shape = train_data.shape  #get shape\n",
    "m = shape[0]              #number of images \n",
    "num_pix = shape[1]-1      #number of pixels, First Col is Label of Image so '-1'\n",
    "labels = np.unique(train_data['label'])\n",
    "\n",
    "print(\"Shape of Dataset {}\".format(shape))\n",
    "print(\"Number of Images {}\".format(m))\n",
    "print(\"Number of pixels {}\".format(num_pix))\n",
    "print(\"Unique Labels    {}\".format(labels))"
   ]
  },
  {
   "cell_type": "markdown",
   "metadata": {},
   "source": [
    "### Separating Features and Labels from the dataset."
   ]
  },
  {
   "cell_type": "code",
   "execution_count": 5,
   "metadata": {},
   "outputs": [
    {
     "name": "stdout",
     "output_type": "stream",
     "text": [
      "Shape of Labels   = (42000, 1)\n",
      "Shape of Features = (42000, 784)\n"
     ]
    }
   ],
   "source": [
    "#Labels\n",
    "train_labels = np.array(train_data['label']).reshape(train_data.shape[0],1)\n",
    "print(\"Shape of Labels   = {}\".format(train_labels.shape))\n",
    "\n",
    "#Features\n",
    "train_dataset = np.array(train_data.iloc[:,1:785]).reshape(train_data.shape[0],784)\n",
    "print(\"Shape of Features = {}\".format(train_dataset.shape))"
   ]
  },
  {
   "cell_type": "markdown",
   "metadata": {},
   "source": [
    "### Lets see some images"
   ]
  },
  {
   "cell_type": "code",
   "execution_count": 6,
   "metadata": {},
   "outputs": [
    {
     "name": "stdout",
     "output_type": "stream",
     "text": [
      "Labels :  [7]   [5]   [1]   [9]   [0]   "
     ]
    },
    {
     "data": {
      "image/png": "[encoded data removed]",
      "text/plain": [
       "<Figure size 432x288 with 5 Axes>"
      ]
     },
     "metadata": {
      "needs_background": "light"
     },
     "output_type": "display_data"
    }
   ],
   "source": [
    "images = np.array(train_dataset[50:55,:]).reshape(5,28,28,1)   #convert it into 28*28*1\n",
    "labs = np.array(train_labels[50:55]).reshape(5,1)\n",
    "\n",
    "fig = plt.figure()\n",
    "print(\"Labels : \",end= ' ')\n",
    "for i in range(5):\n",
    "    fig.add_subplot(1,5,i+1)\n",
    "    plt.imshow(images[i,:,:,0],cmap='gray')\n",
    "    print(\"{}  \".format(labs[i]),end=\" \")\n",
    "    plt.axis(\"off\")\n",
    "    "
   ]
  },
  {
   "cell_type": "markdown",
   "metadata": {},
   "source": [
    "### Normalize the dataset and Break the dataset into Test, Valid, Train dataset\n",
    "\n",
    "**Normalize :**\n",
    "image_data = (image_data-127)/255\n",
    "\n",
    "**Data Distribution**\n",
    "\n",
    "1. Train Dataset - 70%\n",
    "2. Valid Dataset - 15%\n",
    "3. Test  Dataset - 15%\n"
   ]
  },
  {
   "cell_type": "code",
   "execution_count": 7,
   "metadata": {},
   "outputs": [],
   "source": [
    "train_dataset = (train_dataset-127)/255"
   ]
  },
  {
   "cell_type": "code",
   "execution_count": 8,
   "metadata": {},
   "outputs": [
    {
     "name": "stdout",
     "output_type": "stream",
     "text": [
      "Train dataset = (30000, 784)\n",
      "Valid dataset = (6000, 784)\n",
      "Test dataset  = (6000, 784)\n"
     ]
    }
   ],
   "source": [
    "#Breaking the dataset into test dataset, valid dataset and train dataset.\n",
    "\n",
    "test_dataset = np.array(train_dataset[36000:42000]).reshape(-1,num_pix)\n",
    "test_labels = np.array(train_labels[36000:42000]).reshape(-1,1)\n",
    "\n",
    "valid_dataset = np.array(train_dataset[30000:36000]).reshape(-1,num_pix)\n",
    "valid_labels = np.array(train_labels[30000:36000]).reshape(-1,1)\n",
    "\n",
    "train_dataset = np.array(train_dataset[0:30000]).reshape(-1,num_pix)\n",
    "train_labels = np.array(train_labels[0:30000]).reshape(-1,1)\n",
    "\n",
    "print(\"Train dataset = {}\".format(train_dataset.shape,train_labels.shape))\n",
    "print(\"Valid dataset = {}\".format(valid_dataset.shape,valid_labels.shape))\n",
    "print(\"Test dataset  = {}\".format(test_dataset.shape,test_labels.shape))"
   ]
  },
  {
   "cell_type": "markdown",
   "metadata": {},
   "source": [
    "### One Hot Encoding\n",
    "\n",
    "**Example : If label = 4 : [0,0,0,0,1,0,0,0,0,0]**"
   ]
  },
  {
   "cell_type": "code",
   "execution_count": 9,
   "metadata": {},
   "outputs": [
    {
     "name": "stdout",
     "output_type": "stream",
     "text": [
      "Train labels = (30000, 10)\n",
      "Valid labels = (6000, 10)\n",
      "Test labels  = (6000, 10)\n"
     ]
    }
   ],
   "source": [
    "neural_train_labels = np.zeros((train_labels.shape[0],10))\n",
    "neural_valid_labels = np.zeros((valid_labels.shape[0],10))\n",
    "neural_test_labels = np.zeros((test_labels.shape[0],10))\n",
    "\n",
    "for i,value in enumerate(train_labels):\n",
    "    neural_train_labels[i,value] = 1\n",
    "\n",
    "for i,value in enumerate(valid_labels):\n",
    "    neural_valid_labels[i,value] = 1\n",
    "\n",
    "for i,value in enumerate(test_labels):\n",
    "    neural_test_labels[i,value] = 1\n",
    "\n",
    "print(\"Train labels = {}\".format(neural_train_labels.shape))\n",
    "print(\"Valid labels = {}\".format(neural_valid_labels.shape))\n",
    "print(\"Test labels  = {}\".format(neural_test_labels.shape))"
   ]
  },
  {
   "cell_type": "markdown",
   "metadata": {},
   "source": [
    "### Reformatting the dataset\n",
    "**Example : pixels = 784 , convert them into [28,28,1]**"
   ]
  },
  {
   "cell_type": "code",
   "execution_count": 10,
   "metadata": {},
   "outputs": [
    {
     "name": "stdout",
     "output_type": "stream",
     "text": [
      "Training set   = (30000, 28, 28, 1)\n",
      "Validation set = (6000, 28, 28, 1)\n",
      "Test set       = (6000, 28, 28, 1)\n"
     ]
    }
   ],
   "source": [
    "image_size = 28\n",
    "num_labels = 10\n",
    "num_channels = 1 # grayscale\n",
    "\n",
    "def reformat(dataset):\n",
    "    dataset = dataset.reshape(-1,image_size,image_size,num_channels).astype(np.float32)\n",
    "    return dataset\n",
    "\n",
    "train_dataset = reformat(train_dataset)\n",
    "valid_dataset = reformat(valid_dataset)\n",
    "test_dataset = reformat(test_dataset)\n",
    "\n",
    "print('Training set   = {}'.format(train_dataset.shape, neural_train_labels.shape))\n",
    "print('Validation set = {}'.format(valid_dataset.shape, neural_valid_labels.shape))\n",
    "print('Test set       = {}'.format(test_dataset.shape, neural_test_labels.shape))"
   ]
  },
  {
   "cell_type": "markdown",
   "metadata": {},
   "source": [
    "### Hyperparameters"
   ]
  },
  {
   "cell_type": "code",
   "execution_count": 11,
   "metadata": {},
   "outputs": [],
   "source": [
    "#pixels\n",
    "image_size = 28\n",
    "\n",
    "#greyscale\n",
    "num_channels = 1\n",
    "\n",
    "#patch size\n",
    "patch_size = 3\n",
    "\n",
    "#depth\n",
    "depth = 4\n",
    "\n",
    "#hidden layers\n",
    "hidden1 = 256\n",
    "\n",
    "#hyperparameters\n",
    "learning_rate = 0.1\n",
    "\n",
    "#regularization\n",
    "beta = 0\n",
    "\n",
    "#target_labels\n",
    "num_classes = 10"
   ]
  },
  {
   "cell_type": "markdown",
   "metadata": {},
   "source": [
    "### Activation Functions\n",
    "**In-Between Layers** <br>\n",
    "* **Sigmoid = 1 / (1+exp(-X))** \n",
    "\n",
    "**For Final Layer**\n",
    "* **Softmax = exp(X) / (sum(exp(X),1))**"
   ]
  },
  {
   "cell_type": "code",
   "execution_count": 12,
   "metadata": {},
   "outputs": [],
   "source": [
    "#sigmoid\n",
    "def sigmoid(X):\n",
    "    return 1/(1+np.exp(-1*X))\n",
    "\n",
    "#softmax\n",
    "def softmax(X):\n",
    "    exp_X = np.exp(X)\n",
    "    sum_exp_X = np.sum(exp_X,1).reshape(-1,1)  #col-wise sum\n",
    "    exp_X = exp_X/sum_exp_X\n",
    "    return exp_X"
   ]
  },
  {
   "cell_type": "markdown",
   "metadata": {},
   "source": [
    "### Initialize Weights\n",
    "* ** conv_layer1_weights = [3,3,1,4] **<br>\n",
    "* ** conv_layer2_weights = [3,3,4,16]**<br>\n",
    "* ** full_layer1_weights = [504,256] **<br>\n",
    "* ** full_layer2_weights = [256,10]  **<br>\n",
    "\n",
    "Store these weights in parameters dictionary!"
   ]
  },
  {
   "cell_type": "code",
   "execution_count": 13,
   "metadata": {},
   "outputs": [],
   "source": [
    " def initialize_parameters():\n",
    "    #initialize weights values with 0 mean and 0.5 standard deviation.\n",
    "    mean = 0\n",
    "    std = 0.5\n",
    "    \n",
    "    #conv layer weights\n",
    "    conv_layer1_weights = np.random.normal(mean,std,(patch_size,patch_size,num_channels,depth))\n",
    "    conv_layer1_biases = np.zeros([1,depth])\n",
    "    conv_layer2_weights = np.random.normal(mean,std,(patch_size,patch_size,depth,depth*4))\n",
    "    conv_layer2_biases = np.zeros([1,depth*4])\n",
    "    \n",
    "    #fully-connected weights\n",
    "    full_layer1_weights = np.random.normal(mean,std,(((image_size//4-1) * (image_size//4-1) * depth * 4),hidden1))\n",
    "    full_layer1_biases = np.zeros([hidden1])\n",
    "    full_layer2_weights = np.random.normal(mean,std,(hidden1,num_classes))\n",
    "    full_layer2_biases = np.zeros([num_classes])\n",
    "    \n",
    "    parameters = dict()\n",
    "    parameters['cw1'] = conv_layer1_weights\n",
    "    parameters['cb1'] = conv_layer1_biases\n",
    "    parameters['cw2'] = conv_layer2_weights\n",
    "    parameters['cb2'] = conv_layer2_biases\n",
    "    parameters['fw1'] = full_layer1_weights\n",
    "    parameters['fb1'] = full_layer1_biases\n",
    "    parameters['fw2'] = full_layer2_weights\n",
    "    parameters['fb2'] = full_layer2_biases\n",
    "    \n",
    "    return parameters"
   ]
  },
  {
   "cell_type": "markdown",
   "metadata": {},
   "source": [
    "* **Red   Cell : 5x1 + 4x2 + 3x1 + 6x3 + 2x1 + 1x0 + 5x2 + 7x3 + 3x1 = 70**\n",
    "* **Green Cell : 4x1 + 3x2 + 1x1 + 2x3 + 1x1 + 4x0 + 7x2 + 3x3 + 2x1 = 43**\n",
    "* **Blue  Cell : 6x1 + 2x2 + 1x1 + 5x3 + 7x1 + 3x0 + 1x2 + 4x3 + 2x1 = 49**\n",
    "* **Purp  Cell : 2x1 + 1x2 + 4x1 + 7x3 + 3x1 + 2x0 + 4x2 + 2x3 + 3x1 = 49**"
   ]
  },
  {
   "cell_type": "code",
   "execution_count": 14,
   "metadata": {},
   "outputs": [],
   "source": [
    "#Convolution operation i.e multiplying Image with the weights.\n",
    "#stride hardcoded = 2\n",
    "#padding  = 0\n",
    "def conv_multiply(image,weights):\n",
    "    hsize = (image.shape[0]-weights.shape[0])//2 + 1\n",
    "    vsize = (image.shape[1]-weights.shape[1])//2 + 1\n",
    "    logits = np.zeros([hsize,vsize,weights.shape[3]])\n",
    "    for d in range(weights.shape[3]):\n",
    "        row = 0\n",
    "        for rpos in range(0,(image.shape[0]-patch_size+1),2):\n",
    "            col=0\n",
    "            for cpos in range(0,(image.shape[1]-patch_size+1),2):\n",
    "                logits[row,col,d] = np.sum(np.multiply(image[rpos:rpos+patch_size, cpos:cpos+patch_size, :],weights[:,:,:,d]))\n",
    "                col += 1\n",
    "            row+=1\n",
    "    return logits"
   ]
  },
  {
   "cell_type": "code",
   "execution_count": 15,
   "metadata": {},
   "outputs": [],
   "source": [
    "#FORWARD PROPAGATION\n",
    "def forward_propagation(dataset,parameters):\n",
    "    #convolution layers activations\n",
    "    m = dataset.shape[0]\n",
    "    \n",
    "    #get the parameters\n",
    "    cw1 = parameters['cw1']\n",
    "    cb1 = parameters['cb1']\n",
    "    cw2 = parameters['cw2']\n",
    "    cb2 = parameters['cb2']\n",
    "    \n",
    "    fw1 = parameters['fw1']\n",
    "    fb1 = parameters['fb1']\n",
    "    fw2 = parameters['fw2']\n",
    "    fb2 = parameters['fb2']\n",
    "    \n",
    "    #to store the intermediate activations for backward propagation\n",
    "    cache = dict()\n",
    "    \n",
    "    conv_activation1 = list()\n",
    "    conv_activation2 = list()\n",
    "    \n",
    "    #image by image convolutional forward propagation\n",
    "    for i in range(m):\n",
    "        image = dataset[i]\n",
    "        logits = conv_multiply(image,cw1) + cb1\n",
    "        ca1 = sigmoid(logits)\n",
    "        ca2 = sigmoid(conv_multiply(ca1,cw2) + cb2).reshape((image_size // 4 -1) * (image_size // 4 -1) * depth * 4)\n",
    "        \n",
    "        conv_activation1.append(ca1)\n",
    "        conv_activation2.append(ca2)\n",
    "        \n",
    "    #convert into numpy array\n",
    "    conv_activation1 = np.array(conv_activation1).reshape(m,image_size // 2 -1, image_size // 2 -1, depth)\n",
    "    conv_activation2 = np.array(conv_activation2).reshape(m,image_size // 4 -1, image_size // 4 -1, depth * 4)\n",
    "        \n",
    "    #expand the conv_activation2 into (m,num_features) \n",
    "    #num_features = (image_size // 4 * image_size // 4 * depth * 4)\n",
    "    temp_activation = np.array(conv_activation2).reshape(m,(image_size // 4 -1) * (image_size // 4-1) * depth * 4)\n",
    "    \n",
    "    #fully connected layers activations\n",
    "    full_activation1 = np.matmul(temp_activation,fw1) + fb1\n",
    "    full_activation1 = sigmoid(full_activation1)\n",
    "    full_activation2 = np.matmul(full_activation1,fw2) + fb2\n",
    "    output = softmax(full_activation2)\n",
    "    \n",
    "    cache['ca1'] = conv_activation1\n",
    "    cache['ca2'] = conv_activation2\n",
    "    cache['fa1'] = full_activation1\n",
    "    cache['output'] = output\n",
    "    return cache,output"
   ]
  },
  {
   "cell_type": "code",
   "execution_count": 16,
   "metadata": {},
   "outputs": [],
   "source": [
    "#calculate conv deltas or errors only for one example\n",
    "def conv_delta(next_error,weights):\n",
    "    delta = np.zeros([next_error.shape[0]*2+1,next_error.shape[1]*2+1,next_error.shape[2]//4])\n",
    "    for d in range(weights.shape[3]):\n",
    "        row = 0\n",
    "        for rpos in range(0,delta.shape[0]-patch_size+1,2):\n",
    "            col=0\n",
    "            for cpos in range(0,delta.shape[2]-patch_size+1,2):\n",
    "                delta[rpos:rpos+patch_size,cpos:cpos+patch_size,:] += weights[:,:,:,d]*next_error[row,col,d]\n",
    "                col+=1\n",
    "            row +=1\n",
    "    return delta"
   ]
  },
  {
   "cell_type": "code",
   "execution_count": 17,
   "metadata": {},
   "outputs": [],
   "source": [
    "#conv partial derivatives only for single example\n",
    "def conv_derivatives(delta,activation):\n",
    "    partial_derivatives = np.zeros([patch_size,patch_size,activation.shape[2],delta.shape[2]])\n",
    "    for d2 in range(0,partial_derivatives.shape[3]):\n",
    "        row=0\n",
    "        for rpos in range(0,activation.shape[0]-patch_size+1,2):\n",
    "            col = 0\n",
    "            for cpos in range(0,activation.shape[1]-patch_size+1,2):\n",
    "                partial_derivatives[:,:,:,d2] += np.multiply(activation[rpos:rpos+patch_size, cpos:cpos+patch_size, :],delta[row,col,d2])\n",
    "                col += 1\n",
    "            row += 1\n",
    "    return partial_derivatives"
   ]
  },
  {
   "cell_type": "code",
   "execution_count": 18,
   "metadata": {},
   "outputs": [],
   "source": [
    "def backward_propagation(dataset,labels,cache,parameters):\n",
    "    #get activations\n",
    "    output = cache['output']\n",
    "    fa1 = cache['fa1']\n",
    "    ca2 = cache['ca2']\n",
    "    ca1 = cache['ca1']\n",
    "    \n",
    "    temp_act = np.array(ca2).reshape(-1,(image_size // 4-1) * (image_size // 4 -1)* depth * 4)\n",
    "    \n",
    "    #get parameters\n",
    "    cw1 = parameters['cw1']\n",
    "    cw2 = parameters['cw2']\n",
    "    fw1 = parameters['fw1']\n",
    "    fw2 = parameters['fw2']\n",
    "    \n",
    "    \n",
    "    #cal errors fully connected\n",
    "    error_fa2 = output - labels\n",
    "    error_fa1 = np.matmul(error_fa2,fw2.T)\n",
    "    error_fa1 = np.multiply(error_fa1,fa1)\n",
    "    error_fa1 = np.multiply(error_fa1,(1-fa1))\n",
    "    error_temp = np.matmul(error_fa1,fw1.T)\n",
    "    error_temp = np.multiply(error_temp,temp_act)\n",
    "    error_temp = np.multiply(error_temp,(1-temp_act))\n",
    "    \n",
    "    m = dataset.shape[0]\n",
    "    \n",
    "    #cal errors conv layers\n",
    "    error_ca2 = np.array(error_temp).reshape(-1,image_size//4-1,image_size//4-1,depth*4)\n",
    "    error_ca1 = np.zeros(ca1.shape)\n",
    "    ## Image by Image error\n",
    "    for i in range(m):\n",
    "        error = conv_delta(error_ca2[i],cw2)\n",
    "        error = np.multiply(error,ca1[i])\n",
    "        error = np.multiply(error,(1-ca1[i]))\n",
    "        error_ca1 += error\n",
    "    \n",
    "    \n",
    "    #calculate partial derivatives\n",
    "    #fully connected layers\n",
    "    fd2 = (np.matmul(fa1.T,error_fa2) + beta*fw2)/m\n",
    "    fd1 = (np.matmul(temp_act.T,error_fa1) + beta*fw1)/m\n",
    "    \n",
    "    #conv layers\n",
    "    cd2 = np.zeros(cw2.shape)\n",
    "    cd1 = np.zeros(cw1.shape)\n",
    "    \n",
    "    ##Image by Image derivatives\n",
    "    for i in range(m):\n",
    "        cd2 = cd2 + conv_derivatives(error_ca2[i],ca1[i])\n",
    "        cd1 = cd1 + conv_derivatives(error_ca1[i],dataset[i])\n",
    "    cd2 = (cd2 + beta*cw2)/m\n",
    "    cd1 = (cd1 + beta*cw1)/m\n",
    "    \n",
    "    \n",
    "    #store the derivatives in dict\n",
    "    derivatives = dict()\n",
    "    \n",
    "    derivatives['cd1'] = cd1\n",
    "    derivatives['cd2'] = cd2\n",
    "    derivatives['fd1'] = fd1\n",
    "    derivatives['fd2'] = fd2\n",
    "    \n",
    "    return derivatives"
   ]
  },
  {
   "cell_type": "code",
   "execution_count": 19,
   "metadata": {},
   "outputs": [],
   "source": [
    "def update_parameters(derivatives,parameters):\n",
    "    #get parameters\n",
    "    cw1 = parameters['cw1']\n",
    "    cw2 = parameters['cw2']\n",
    "    fw1 = parameters['fw1']\n",
    "    fw2 = parameters['fw2']\n",
    "    \n",
    "    #get derivatives\n",
    "    cd1 = derivatives['cd1']\n",
    "    cd2 = derivatives['cd2']\n",
    "    fd1 = derivatives['fd1']\n",
    "    fd2 = derivatives['fd2']\n",
    "    \n",
    "    #update\n",
    "    cw1 = cw1 - learning_rate*cd1\n",
    "    cw2 = cw2 - learning_rate*cd2\n",
    "    fw1 = fw1 - learning_rate*fd1\n",
    "    fw2 = fw2 - learning_rate*fd2\n",
    "    \n",
    "    #update the dict\n",
    "    parameters['cw1'] = cw1\n",
    "    parameters['cw2'] = cw2\n",
    "    parameters['fw1'] = fw1\n",
    "    parameters['fw2'] = fw2\n",
    "    \n",
    "    return parameters"
   ]
  },
  {
   "cell_type": "markdown",
   "metadata": {},
   "source": [
    "### Loss and Accuracy\n",
    "* Loss = -sum((Y x log(predictions) + (1-Y) x (log(1-predictions))))/m + (beta x (sum(cw1^2) + sum(cw2^2) + sum(fw1^2) + sum(fw2^2)))\n",
    "* Accuray = sum(Y==Predictions)/m <br>\n",
    "\n",
    "m = number of examples"
   ]
  },
  {
   "cell_type": "code",
   "execution_count": 20,
   "metadata": {},
   "outputs": [],
   "source": [
    "def cal_loss_accuracy(true_labels,predictions,parameters):\n",
    "    #get parameters\n",
    "    cw1 = parameters['cw1']\n",
    "    cw2 = parameters['cw2']\n",
    "    fw1 = parameters['fw1']\n",
    "    fw2 = parameters['fw2']\n",
    "    \n",
    "    m = len(true_labels)\n",
    "    \n",
    "    #cal loss\n",
    "    loss = -1*(np.sum(np.multiply(np.log(predictions),true_labels),1) + np.sum(np.multiply(np.log(1-predictions),1-true_labels),1))\n",
    "    loss = np.sum(loss)\n",
    "    loss = loss + beta*(np.sum(cw1**2) + np.sum(cw2**2) + np.sum(fw1**2) + np.sum(fw2**2))\n",
    "    loss = loss/m\n",
    "    \n",
    "    #cal accuracy\n",
    "    accuracy = np.sum(np.argmax(true_labels,1)==np.argmax(predictions,1))/m\n",
    "    \n",
    "    return loss,accuracy"
   ]
  },
  {
   "cell_type": "markdown",
   "metadata": {},
   "source": [
    "### Train Function\n",
    "\n",
    "1. Initialize the parameters\n",
    "2. Forward Propagation\n",
    "3. Calculate Loss and Accuracy\n",
    "4. Backward Propagation\n",
    "5. Update the Parameters \n",
    "\n",
    "Batch Size = 20 <br>\n",
    "Repeat the steps 2-5 for every Batch"
   ]
  },
  {
   "cell_type": "code",
   "execution_count": 21,
   "metadata": {},
   "outputs": [],
   "source": [
    "#train function\n",
    "def train(train_dataset,train_labels,batch_size=20,iters=101,stride=2):\n",
    "    \n",
    "    #initialize the parameters\n",
    "    parameters = initialize_parameters()\n",
    "    \n",
    "    cw1 = parameters['cw1']\n",
    "    cb1 = parameters['cb1']\n",
    "    cw2 = parameters['cw2']\n",
    "    cb2 = parameters['cb2']\n",
    "    \n",
    "    fw1 = parameters['fw1']\n",
    "    fb1 = parameters['fb1']\n",
    "    fw2 = parameters['fw2']\n",
    "    fb2 = parameters['fb2']\n",
    "    \n",
    "    J = []  #store the loss o every batch\n",
    "    A = []  #store the accuracy of every batch\n",
    "    \n",
    "    \n",
    "    #training process.\n",
    "    for step in range(iters):\n",
    "        #get the batch data.\n",
    "        start = (step*batch_size)%(train_dataset.shape[0])\n",
    "        end = start + batch_size\n",
    "        \n",
    "        batch_dataset = train_dataset[start:end,:,:,:]\n",
    "        batch_labels = train_labels[start:end,:]\n",
    "        \n",
    "        #forward propagation\n",
    "        cache,output = forward_propagation(batch_dataset,parameters)\n",
    "        \n",
    "        #cal_loss and accuracy\n",
    "        loss,accuracy = cal_loss_accuracy(batch_labels,output,parameters)\n",
    "        \n",
    "        #calculate the derivatives\n",
    "        derivatives = backward_propagation(batch_dataset,batch_labels,cache,parameters)\n",
    "        \n",
    "        #update the parameters\n",
    "        parameters = update_parameters(derivatives,parameters)\n",
    "        \n",
    "        #append the loss and accuracy of every batch\n",
    "        J.append(loss)\n",
    "        A.append(accuracy)\n",
    "        \n",
    "        #print loss and accuracy of the batch dataset.\n",
    "        if(step%100==0):\n",
    "            print('Step : %d'%step)\n",
    "            print('Loss : %f'%loss)\n",
    "            print('Accuracy : %f%%'%(round(accuracy*100,2)))\n",
    "            \n",
    "    return J,A,parameters"
   ]
  },
  {
   "cell_type": "markdown",
   "metadata": {},
   "source": [
    "###  Let's Train\n",
    "\n",
    "* 1501 Iterations is equivalent to ony one pass of entire training set (20*1500==30000).i.e an image is seen only once."
   ]
  },
  {
   "cell_type": "code",
   "execution_count": 22,
   "metadata": {},
   "outputs": [
    {
     "name": "stdout",
     "output_type": "stream",
     "text": [
      "Step : 0\n",
      "Loss : 12.194192\n",
      "Accuracy : 5.000000%\n",
      "Step : 100\n",
      "Loss : 3.259985\n",
      "Accuracy : 25.000000%\n",
      "Step : 200\n",
      "Loss : 1.124571\n",
      "Accuracy : 80.000000%\n",
      "Step : 300\n",
      "Loss : 1.138554\n",
      "Accuracy : 80.000000%\n",
      "Step : 400\n",
      "Loss : 0.875024\n",
      "Accuracy : 90.000000%\n",
      "Step : 500\n",
      "Loss : 0.831174\n",
      "Accuracy : 90.000000%\n",
      "Step : 600\n",
      "Loss : 1.015230\n",
      "Accuracy : 90.000000%\n",
      "Step : 700\n",
      "Loss : 0.492409\n",
      "Accuracy : 90.000000%\n",
      "Step : 800\n",
      "Loss : 1.115891\n",
      "Accuracy : 75.000000%\n",
      "Step : 900\n",
      "Loss : 0.472351\n",
      "Accuracy : 90.000000%\n",
      "Step : 1000\n",
      "Loss : 0.506961\n",
      "Accuracy : 95.000000%\n",
      "Step : 1100\n",
      "Loss : 0.989280\n",
      "Accuracy : 75.000000%\n",
      "Step : 1200\n",
      "Loss : 0.327027\n",
      "Accuracy : 95.000000%\n",
      "Step : 1300\n",
      "Loss : 0.744184\n",
      "Accuracy : 85.000000%\n",
      "Step : 1400\n",
      "Loss : 0.886974\n",
      "Accuracy : 85.000000%\n",
      "Step : 1500\n",
      "Loss : 0.874323\n",
      "Accuracy : 90.000000%\n"
     ]
    }
   ],
   "source": [
    "J,A,parameters = train(train_dataset,neural_train_labels,iters=1501)"
   ]
  },
  {
   "cell_type": "code",
   "execution_count": 23,
   "metadata": {},
   "outputs": [],
   "source": [
    "#for training set\n",
    "#_,train_pred = forward_propagation(train_dataset,parameters)\n",
    "#_,train_accuracy = cal_loss_accuracy(neural_train_labels,train_pred,parameters)\n",
    "\n",
    "#for valid set\n",
    "_,valid_pred = forward_propagation(valid_dataset,parameters)\n",
    "_,valid_accuracy = cal_loss_accuracy(neural_valid_labels,valid_pred,parameters)\n",
    "\n",
    "#for test set\n",
    "_,test_pred = forward_propagation(test_dataset,parameters)\n",
    "_,test_accuracy = cal_loss_accuracy(neural_test_labels,test_pred,parameters)"
   ]
  },
  {
   "cell_type": "code",
   "execution_count": 24,
   "metadata": {},
   "outputs": [
    {
     "name": "stdout",
     "output_type": "stream",
     "text": [
      "Accuracy of Valid Set = 88.28\n",
      "Accuracy of Test  Set = 89.5\n"
     ]
    }
   ],
   "source": [
    "#print\n",
    "#print('Accuracy of Train Set = {}'.format(round(train_accuracy*100,2)))\n",
    "print('Accuracy of Valid Set = {}'.format(round(valid_accuracy*100,2)))\n",
    "print('Accuracy of Test  Set = {}'.format(round(test_accuracy*100,2)))"
   ]
  },
  {
   "cell_type": "code",
   "execution_count": 25,
   "metadata": {},
   "outputs": [
    {
     "data": {
      "image/png": "[encoded data removed]",
      "text/plain": [
       "<Figure size 432x288 with 1 Axes>"
      ]
     },
     "metadata": {
      "needs_background": "light"
     },
     "output_type": "display_data"
    },
    {
     "data": {
      "image/png": "[encoded data removed]",
      "text/plain": [
       "<Figure size 432x288 with 1 Axes>"
      ]
     },
     "metadata": {
      "needs_background": "light"
     },
     "output_type": "display_data"
    }
   ],
   "source": [
    "avg_loss = list()\n",
    "avg_acc = list()\n",
    "i = 0\n",
    "while(i<len(J)):\n",
    "    avg_loss.append(np.mean(J[i:i+30]))\n",
    "    avg_acc.append(np.mean(A[i:i+30]))\n",
    "    i += 30\n",
    "\n",
    "plt.plot(list(range(len(avg_loss))),avg_loss)\n",
    "plt.xlabel(\"x\")\n",
    "plt.ylabel(\"Loss (Avg of 30 batches)\")\n",
    "plt.title(\"Loss Graph\")\n",
    "plt.show()\n",
    "\n",
    "plt.plot(list(range(len(avg_acc))),avg_acc)\n",
    "plt.xlabel(\"x\")\n",
    "plt.ylabel(\"Accuracy (Avg of 30 batches)\")\n",
    "plt.title(\"Accuracy Graph\")\n",
    "plt.show()    "
   ]
  },
  {
   "cell_type": "code",
   "execution_count": 26,
   "metadata": {},
   "outputs": [
    {
     "name": "stdout",
     "output_type": "stream",
     "text": [
      "Image\n"
     ]
    },
    {
     "data": {
      "image/png": "[encoded data removed]",
      "text/plain": [
       "<Figure size 432x288 with 1 Axes>"
      ]
     },
     "metadata": {
      "needs_background": "light"
     },
     "output_type": "display_data"
    },
    {
     "name": "stdout",
     "output_type": "stream",
     "text": [
      "True_Label = 4\n",
      "Pred_Label = 4\n"
     ]
    }
   ],
   "source": [
    "index = 10\n",
    "test_image = test_dataset[index].reshape(1,28,28,1)\n",
    "plt.imshow(test_image[0,:,:,0],cmap='gray')\n",
    "print(\"Image\")\n",
    "plt.show()\n",
    "print(\"True_Label = {}\".format(np.argmax(neural_test_labels[index])))\n",
    "print(\"Pred_Label = {}\".format(np.argmax(test_pred[index])))"
   ]
  },
  {
   "cell_type": "code",
   "execution_count": 27,
   "metadata": {},
   "outputs": [],
   "source": [
    "cache,pred = forward_propagation(test_image,parameters)"
   ]
  },
  {
   "cell_type": "code",
   "execution_count": 28,
   "metadata": {},
   "outputs": [],
   "source": [
    "conv_layer1 = cache['ca1']\n",
    "conv_layer2 = cache['ca2']"
   ]
  },
  {
   "cell_type": "code",
   "execution_count": 29,
   "metadata": {},
   "outputs": [
    {
     "name": "stdout",
     "output_type": "stream",
     "text": [
      "Conv layer1 Activations\n"
     ]
    },
    {
     "data": {
      "image/png": "[encoded data removed]",
      "text/plain": [
       "<Figure size 432x288 with 1 Axes>"
      ]
     },
     "metadata": {
      "needs_background": "light"
     },
     "output_type": "display_data"
    },
    {
     "data": {
      "image/png": "[encoded data removed]",
      "text/plain": [
       "<Figure size 432x288 with 1 Axes>"
      ]
     },
     "metadata": {
      "needs_background": "light"
     },
     "output_type": "display_data"
    },
    {
     "data": {
      "image/png": "[encoded data removed]",
      "text/plain": [
       "<Figure size 432x288 with 1 Axes>"
      ]
     },
     "metadata": {
      "needs_background": "light"
     },
     "output_type": "display_data"
    },
    {
     "data": {
      "image/png": "[encoded data removed]",
      "text/plain": [
       "<Figure size 432x288 with 1 Axes>"
      ]
     },
     "metadata": {
      "needs_background": "light"
     },
     "output_type": "display_data"
    },
    {
     "name": "stdout",
     "output_type": "stream",
     "text": [
      "Conv layer2 Activations\n"
     ]
    },
    {
     "data": {
      "image/png": "[encoded data removed]",
      "text/plain": [
       "<Figure size 432x288 with 7 Axes>"
      ]
     },
     "metadata": {
      "needs_background": "light"
     },
     "output_type": "display_data"
    }
   ],
   "source": [
    "print(\"Conv layer1 Activations\")\n",
    "for i in range(conv_layer1.shape[3]):\n",
    "    plt.imshow(conv_layer1[0,:,:,i],cmap='gray')\n",
    "    plt.show()\n",
    "\n",
    "fig2 = plt.figure()\n",
    "print(\"Conv layer2 Activations\")\n",
    "for i in range(0,(conv_layer2.shape[3]-9)):\n",
    "    fig2.add_subplot(1,7,i+1)\n",
    "    plt.imshow(conv_layer2[0,:,:,i],cmap='gray')\n",
    "    "
   ]
  },
  {
   "cell_type": "code",
   "execution_count": 30,
   "metadata": {},
   "outputs": [
    {
     "data": {
      "image/png": "[encoded data removed]",
      "text/plain": [
       "<Figure size 432x288 with 1 Axes>"
      ]
     },
     "metadata": {
      "needs_background": "light"
     },
     "output_type": "display_data"
    },
    {
     "name": "stdout",
     "output_type": "stream",
     "text": [
      "Predicted Label = 1\n"
     ]
    },
    {
     "data": {
      "image/png": "[encoded data removed]",
      "text/plain": [
       "<Figure size 432x288 with 1 Axes>"
      ]
     },
     "metadata": {
      "needs_background": "light"
     },
     "output_type": "display_data"
    },
    {
     "name": "stdout",
     "output_type": "stream",
     "text": [
      "Predicted Label = 5\n"
     ]
    },
    {
     "data": {
      "image/png": "[encoded data removed]",
      "text/plain": [
       "<Figure size 432x288 with 1 Axes>"
      ]
     },
     "metadata": {
      "needs_background": "light"
     },
     "output_type": "display_data"
    },
    {
     "name": "stdout",
     "output_type": "stream",
     "text": [
      "Predicted Label = 9\n"
     ]
    },
    {
     "data": {
      "image/png": "[encoded data removed]",
      "text/plain": [
       "<Figure size 432x288 with 1 Axes>"
      ]
     },
     "metadata": {
      "needs_background": "light"
     },
     "output_type": "display_data"
    },
    {
     "name": "stdout",
     "output_type": "stream",
     "text": [
      "Predicted Label = 0\n"
     ]
    },
    {
     "data": {
      "image/png": "[encoded data removed]",
      "text/plain": [
       "<Figure size 432x288 with 1 Axes>"
      ]
     },
     "metadata": {
      "needs_background": "light"
     },
     "output_type": "display_data"
    },
    {
     "name": "stdout",
     "output_type": "stream",
     "text": [
      "Predicted Label = 2\n"
     ]
    }
   ],
   "source": [
    "images = test_dataset[0:5]\n",
    "image_labels = neural_test_labels[0:5]\n",
    "\n",
    "for i in range(len(images)):\n",
    "    plt.imshow(images[i,:,:,0],cmap='gray')\n",
    "    plt.show()\n",
    "    print(\"Predicted Label = {}\".format(np.argmax(image_labels[i])))"
   ]
  },
  {
   "cell_type": "code",
   "execution_count": 31,
   "metadata": {},
   "outputs": [],
   "source": [
    "import pickle\n",
    "with open('digit_recognizer.pickle','wb') as f:\n",
    "    pickle.dump(J,f)"
   ]
  },
  {
   "cell_type": "code",
   "execution_count": null,
   "metadata": {},
   "outputs": [],
   "source": []
  },
  {
   "cell_type": "code",
   "execution_count": null,
   "metadata": {},
   "outputs": [],
   "source": []
  },
  {
   "cell_type": "code",
   "execution_count": null,
   "metadata": {},
   "outputs": [],
   "source": []
  }
 ],
 "metadata": {
  "kernelspec": {
   "display_name": "Python 3",
   "language": "python",
   "name": "python3"
  },
  "language_info": {
   "codemirror_mode": {
    "name": "ipython",
    "version": 3
   },
   "file_extension": ".py",
   "mimetype": "text/x-python",
   "name": "python",
   "nbconvert_exporter": "python",
   "pygments_lexer": "ipython3",
   "version": "3.7.5"
  }
 },
 "nbformat": 4,
 "nbformat_minor": 4
}
